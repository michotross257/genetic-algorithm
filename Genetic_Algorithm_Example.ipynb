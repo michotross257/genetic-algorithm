{
 "cells": [
  {
   "cell_type": "code",
   "execution_count": 1,
   "metadata": {
    "collapsed": true
   },
   "outputs": [],
   "source": [
    "import sys\n",
    "import time\n",
    "import random\n",
    "import numpy as np\n",
    "from functools import reduce\n",
    "from itertools import permutations"
   ]
  },
  {
   "cell_type": "markdown",
   "metadata": {},
   "source": [
    "# RANDOM SEARCH\n",
    "### 1) Given a target sequence of characters (e.g. 'hello world')\n",
    "### 2) Create a set of characters, *S* (e.g. ['h', 'e', 'l', 'l', 'o', ' ', 'w', 'o', 'r', 'l', 'd'])\n",
    "### 3) Until target is found...\n",
    "### 4) Produce a guess by randomly combining characters from *S* to form a sequence"
   ]
  },
  {
   "cell_type": "code",
   "execution_count": 2,
   "metadata": {
    "collapsed": true
   },
   "outputs": [],
   "source": [
    "def random_search(trgt):\n",
    "    \n",
    "    target, letters = list(trgt), list(trgt)\n",
    "    guess, count = [], 0\n",
    "    print('TARGET: {}'.format(trgt))\n",
    "    start = time.time()\n",
    "    \n",
    "    while guess != target:\n",
    "        guess = list(np.random.choice(letters, size=len(target), replace=False))\n",
    "        if count%500 == 0:\n",
    "            print('\\rGUESS : {}'.format(reduce(lambda x,y: x+y, guess)), end='')\n",
    "        sys.stdout.flush()\n",
    "        count += 1\n",
    "        \n",
    "    end = time.time()\n",
    "    print('\\rOUTPUT: {}'.format(reduce(lambda x,y: x+y, guess)), end='')\n",
    "    print('\\nCOUNT: {}\\nTIME: {}'.format(count+1, end-start))\n",
    "    \n",
    "    return end-start"
   ]
  },
  {
   "cell_type": "markdown",
   "metadata": {},
   "source": [
    "# PERMUTATION SEARCH"
   ]
  },
  {
   "cell_type": "markdown",
   "metadata": {},
   "source": [
    "### 1) Generate a list (L) of permutations of the target\n",
    "### 2) Shuffle L\n",
    "### 3) Until target is found...\n",
    "### 4) Produce a guess by randomly choosing from L\n",
    "### 5) Remove incorrect guess from L"
   ]
  },
  {
   "cell_type": "code",
   "execution_count": 3,
   "metadata": {
    "collapsed": true
   },
   "outputs": [],
   "source": [
    "def permutation_search(trgt):\n",
    "    \n",
    "    target = tuple(trgt)\n",
    "    perms = list(permutations(target)) # get a list of permutations\n",
    "    random.shuffle(perms)\n",
    "    guess, count = random.choice(perms), 0\n",
    "    print('TARGET: {}'.format(trgt))\n",
    "    start = time.time()\n",
    "    \n",
    "    while guess != target:\n",
    "        perms.remove(guess)\n",
    "        guess = random.choice(perms)\n",
    "        print('\\rGUESS : {}'.format(reduce(lambda x,y: x+y, guess)), end='')\n",
    "        sys.stdout.flush()\n",
    "        count += 1\n",
    "        \n",
    "    end = time.time()\n",
    "    print('\\rOUTPUT: {}'.format(reduce(lambda x,y: x+y, guess)), end='')\n",
    "    print('\\nCOUNT: {}\\nTIME: {}'.format(count+1, end-start))\n",
    "    \n",
    "    return end-start"
   ]
  },
  {
   "cell_type": "markdown",
   "metadata": {},
   "source": [
    "# GENETIC ALGORITHM\n",
    "### 1) Randomly generate initial population\n",
    "### 2) Until target is found in population...\n",
    "### 3) Determine fitness of population\n",
    "### 4) Reproduce to generate new population\n",
    "### 5) Mutate new population\n",
    "### 6) Replace old population with new population "
   ]
  },
  {
   "cell_type": "code",
   "execution_count": 4,
   "metadata": {
    "collapsed": true
   },
   "outputs": [],
   "source": [
    "def fitness(pop, target):\n",
    "    '''Calculate fitness of each member of population'''\n",
    "    # dictionary in which to store fitness scores\n",
    "    results = {}\n",
    "    \n",
    "    # for each member of the population\n",
    "    for member in pop:\n",
    "        score = 0\n",
    "        # determine the number of character matches (character order matters)\n",
    "        for index, val in enumerate(member):\n",
    "            if val == target[index]:\n",
    "                score += 1\n",
    "        results[tuple(member)] = score/len(member)\n",
    "    \n",
    "    return results\n",
    "\n",
    "\n",
    "def crossOver(N, chars, prob_list, mutation_rate):\n",
    "    '''Mate parents to produce child and apply mutation.'''\n",
    "    new_population = []\n",
    "    for _ in range(N):\n",
    "        \n",
    "        # randomly choose two parents\n",
    "        ind_1, ind_2 = np.random.choice(len(prob_list), size=2, replace=False)\n",
    "        parent_1, parent_2 = prob_list[ind_1], prob_list[ind_2]\n",
    "        \n",
    "        # take parts from each parent\n",
    "        midpoint = np.random.randint(1, len(parent_1))\n",
    "        child = list(parent_1)[:midpoint]\n",
    "        child.extend(list(parent_2)[midpoint:])\n",
    "        \n",
    "        # mutate child\n",
    "        for i in range(len(child)):\n",
    "            if np.random.random(size=1) <= mutation_rate:\n",
    "                child[i] = chr(random.choice(chars))\n",
    "        new_population.append(child)\n",
    "    \n",
    "    return new_population\n",
    "\n",
    "\n",
    "def genetic_algorithm(target, N=200, mutation_rate=0.01):\n",
    "    \n",
    "    target = list(target)\n",
    "    \n",
    "    # characters to choose from\n",
    "    characters = list(range(97,122))\n",
    "    characters.append(32)\n",
    "    \n",
    "    # randomnly generate population\n",
    "    population = []\n",
    "    for _ in range(N):\n",
    "        population.append(list(map(chr, list(np.random.choice(characters,\n",
    "                                                              size=len(target))))))\n",
    "    \n",
    "    num_generations = 1\n",
    "    print('TARGET: {}'.format(reduce(lambda x,y: x+y, target)))\n",
    "    start = time.time()\n",
    "    \n",
    "    while target not in population:\n",
    "        \n",
    "        # get fitness scores for population\n",
    "        results = fitness(population, target)\n",
    "        \n",
    "        # determine most fit population member\n",
    "        leader = max(results, key=lambda x: results[x])\n",
    "        print('\\rOUTPUT: {}\\t\\tFITNESS: {}\\t\\tNUM GENERATIONS: {}'.format(\n",
    "              reduce(lambda x,y: x+y, leader), round(results[leader],3), num_generations), end='')\n",
    "        \n",
    "        # create probability list according to fitness\n",
    "        prob_list = []\n",
    "        for result in results:\n",
    "            # append member to prob_list as many times as determined by its fitness score\n",
    "            for _ in range(int(results[result]*100)):\n",
    "                prob_list.append(result)\n",
    "        \n",
    "        # reproduce\n",
    "        population = crossOver(N, characters, prob_list, mutation_rate)\n",
    "        num_generations += 1\n",
    "        \n",
    "    end = time.time()\n",
    "    print('\\rOUTPUT: {}\\t\\tFITNESS: {}\\t\\tNUM GENERATIONS: {}'.format(\n",
    "          reduce(lambda x,y: x+y, target), '1.000', num_generations), end='')\n",
    "    print('\\nTime: {}'.format(end-start))\n",
    "    return end-start"
   ]
  },
  {
   "cell_type": "code",
   "execution_count": 5,
   "metadata": {
    "scrolled": true
   },
   "outputs": [
    {
     "name": "stdout",
     "output_type": "stream",
     "text": [
      "RANDOM SEARCH\n",
      "\n",
      "TARGET: hi world\n",
      "OUTPUT: hi world\n",
      "COUNT: 53265\n",
      "TIME: 10.431010007858276\n",
      "--------------------------------------------------\n",
      "\n",
      "PERMUTATION SEARCH\n",
      "\n",
      "TARGET: hi world\n",
      "OUTPUT: hi world\n",
      "COUNT: 15161\n",
      "TIME: 22.102240085601807\n",
      "--------------------------------------------------\n",
      "\n",
      "GENETIC ALGORITHM\n",
      "\n",
      "TARGET: hi world\n",
      "OUTPUT: hi world\t\tFITNESS: 1.000\t\tNUM GENERATIONS: 11\n",
      "Time: 0.4301598072052002\n",
      "\n",
      "\n",
      "Genetic Algorithm performed approximately 24 times faster than Random Search.\n",
      "\n",
      "Genetic Algorithm performed approximately 51 times faster than Permutation Search.\n"
     ]
    }
   ],
   "source": [
    "msg = 'hi world'\n",
    "msg = msg.lower()\n",
    "print('RANDOM SEARCH\\n')\n",
    "rs_time = random_search(msg)\n",
    "print('-'*50)\n",
    "print('\\nPERMUTATION SEARCH\\n')\n",
    "ps_time = permutation_search(msg)\n",
    "print('-'*50)\n",
    "print('\\nGENETIC ALGORITHM\\n')\n",
    "ga_time = genetic_algorithm(msg)\n",
    "print('\\n\\nGenetic Algorithm performed approximately {} times faster than Random Search.'.\\\n",
    "      format(int(rs_time/ga_time)))\n",
    "print('\\nGenetic Algorithm performed approximately {} times faster than Permutation Search.'.\\\n",
    "      format(int(ps_time/ga_time)))"
   ]
  }
 ],
 "metadata": {
  "kernelspec": {
   "display_name": "Python 3",
   "language": "python",
   "name": "python3"
  },
  "language_info": {
   "codemirror_mode": {
    "name": "ipython",
    "version": 3
   },
   "file_extension": ".py",
   "mimetype": "text/x-python",
   "name": "python",
   "nbconvert_exporter": "python",
   "pygments_lexer": "ipython3",
   "version": "3.5.2"
  },
  "varInspector": {
   "cols": {
    "lenName": 16,
    "lenType": 16,
    "lenVar": 40
   },
   "kernels_config": {
    "python": {
     "delete_cmd_postfix": "",
     "delete_cmd_prefix": "del ",
     "library": "var_list.py",
     "varRefreshCmd": "print(var_dic_list())"
    },
    "r": {
     "delete_cmd_postfix": ") ",
     "delete_cmd_prefix": "rm(",
     "library": "var_list.r",
     "varRefreshCmd": "cat(var_dic_list()) "
    }
   },
   "types_to_exclude": [
    "module",
    "function",
    "builtin_function_or_method",
    "instance",
    "_Feature"
   ],
   "window_display": false
  }
 },
 "nbformat": 4,
 "nbformat_minor": 2
}
